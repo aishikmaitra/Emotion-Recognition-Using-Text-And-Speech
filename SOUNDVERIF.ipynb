{
 "cells": [
  {
   "cell_type": "code",
   "execution_count": 1,
   "id": "f2a4d67e-1c8d-485b-929c-020556fef26c",
   "metadata": {},
   "outputs": [
    {
     "name": "stdout",
     "output_type": "stream",
     "text": [
      "Accuracy: 74.42%\n",
      "F1 Score: 0.71\n"
     ]
    }
   ],
   "source": [
    "import librosa\n",
    "import os\n",
    "import glob\n",
    "import numpy as np\n",
    "from sklearn.model_selection import train_test_split\n",
    "from sklearn.neural_network import MLPClassifier\n",
    "from sklearn.metrics import accuracy_score, f1_score\n",
    "\n",
    "def extract_feature(file_name, mfcc=True, chroma=True, mel=True):\n",
    "    X, sample_rate = librosa.load(file_name, res_type='kaiser_fast')\n",
    "    result = np.array([])\n",
    "    \n",
    "    if mfcc:\n",
    "        mfccs = np.mean(librosa.feature.mfcc(y=X, sr=sample_rate, n_mfcc=40).T, axis=0)\n",
    "        result = np.hstack((result, mfccs))\n",
    "    \n",
    "    if chroma:\n",
    "        stft = np.abs(librosa.stft(X))\n",
    "        chroma_feat = np.mean(librosa.feature.chroma_stft(S=stft, sr=sample_rate).T, axis=0)\n",
    "        result = np.hstack((result, chroma_feat))\n",
    "    \n",
    "    if mel:\n",
    "        mel_feat = np.mean(librosa.feature.melspectrogram(y=X, sr=sample_rate).T, axis=0)\n",
    "        result = np.hstack((result, mel_feat))\n",
    "    \n",
    "    return result\n",
    "\n",
    "# Define emotion mapping for RAVDESS\n",
    "emotions = {\n",
    "    '01': 'Neutral', '02': 'Calm', '03': 'Happy', '04': 'Sad',\n",
    "    '05': 'Angry', '06': 'Fearful', '07': 'Disgust', '08': 'Surprised'\n",
    "}\n",
    "observed_emo = set(emotions.values())\n",
    "\n",
    "def load_data(test_size=0.2):\n",
    "    x, y = [], []\n",
    "    \n",
    "    # Load RAVDESS dataset\n",
    "    for file in glob.glob('E:/RAVDESS/RAVDESS/Actor_*/*.wav'):\n",
    "        file_name = os.path.basename(file)\n",
    "        emotion = emotions.get(file_name.split('-')[2], None)\n",
    "        if emotion in observed_emo:\n",
    "            feature = extract_feature(file, mfcc=True, chroma=True, mel=True)\n",
    "            x.append(feature)\n",
    "            y.append(emotion)\n",
    "    \n",
    "    # Load TESS dataset\n",
    "    tess_base = 'E:/TESS/TESS Toronto emotional speech set data/'\n",
    "    for folder in os.listdir(tess_base):\n",
    "        folder_path = os.path.join(tess_base, folder)\n",
    "        if os.path.isdir(folder_path):\n",
    "            parts = folder.split('_')\n",
    "            if len(parts) > 1:  # Ensures there's an emotion label\n",
    "                emotion_label = parts[1].capitalize()\n",
    "                if emotion_label in observed_emo:\n",
    "                    for file in glob.glob(f'{folder_path}/*.wav'):\n",
    "                        feature = extract_feature(file, mfcc=True, chroma=True, mel=True)\n",
    "                        x.append(feature)\n",
    "                        y.append(emotion_label)\n",
    "    return train_test_split(np.array(x), np.array(y), test_size=test_size, train_size=0.75, random_state=9)\n",
    "\n",
    "# Load data\n",
    "x_train, x_test, y_train, y_test = load_data(test_size=0.25)\n",
    "\n",
    "# Train MLP Classifier\n",
    "model = MLPClassifier(alpha=0.01, batch_size=256, epsilon=1e-08, hidden_layer_sizes=(300,), learning_rate='adaptive', max_iter=500)\n",
    "model.fit(x_train, y_train)\n",
    "\n",
    "# Evaluate model\n",
    "y_pred = model.predict(x_test)\n",
    "accuracy = accuracy_score(y_test, y_pred)\n",
    "f1 = f1_score(y_test, y_pred, average='weighted')\n",
    "print(f'Accuracy: {accuracy * 100:.2f}%')\n",
    "print(f'F1 Score: {f1:.2f}')\n"
   ]
  },
  {
   "cell_type": "code",
   "execution_count": null,
   "id": "388f63a4-8667-435a-a598-fa7ee2223891",
   "metadata": {},
   "outputs": [],
   "source": []
  },
  {
   "cell_type": "code",
   "execution_count": null,
   "id": "4cc1e2c9-4b6d-4194-97a4-6000c28825a5",
   "metadata": {},
   "outputs": [],
   "source": []
  }
 ],
 "metadata": {
  "kernelspec": {
   "display_name": "Python 3 (ipykernel)",
   "language": "python",
   "name": "python3"
  },
  "language_info": {
   "codemirror_mode": {
    "name": "ipython",
    "version": 3
   },
   "file_extension": ".py",
   "mimetype": "text/x-python",
   "name": "python",
   "nbconvert_exporter": "python",
   "pygments_lexer": "ipython3",
   "version": "3.12.7"
  }
 },
 "nbformat": 4,
 "nbformat_minor": 5
}
